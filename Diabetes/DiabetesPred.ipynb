{
  "nbformat": 4,
  "nbformat_minor": 0,
  "metadata": {
    "colab": {
      "provenance": []
    },
    "kernelspec": {
      "name": "python3",
      "display_name": "Python 3"
    },
    "language_info": {
      "name": "python"
    }
  },
  "cells": [
    {
      "cell_type": "code",
      "source": [
        "import numpy as np\n",
        "import pandas as pd\n",
        "from sklearn.preprocessing import StandardScaler\n",
        "from sklearn.model_selection import train_test_split\n",
        "from sklearn.metrics import accuracy_score, classification_report, confusion_matrix\n",
        "from sklearn.linear_model import LogisticRegression\n",
        "from sklearn.neighbors import KNeighborsClassifier\n",
        "from sklearn.tree import DecisionTreeClassifier\n",
        "from sklearn import svm"
      ],
      "metadata": {
        "id": "ITFQ5Ij-OywQ"
      },
      "execution_count": null,
      "outputs": []
    },
    {
      "cell_type": "code",
      "source": [
        "diabdata = pd.read_csv(\"/content/diabetes.csv\")"
      ],
      "metadata": {
        "id": "dBYykOHoO8kC"
      },
      "execution_count": null,
      "outputs": []
    },
    {
      "cell_type": "code",
      "source": [
        "print(\"Class Distribution:\\n\", diabdata['Outcome'].value_counts())\n",
        "print(\"\\nGroup Mean by Class:\\n\", diabdata.groupby('Outcome').mean())"
      ],
      "metadata": {
        "colab": {
          "base_uri": "https://localhost:8080/"
        },
        "id": "h8Hb4SuWO-b4",
        "outputId": "3841434f-b7c7-4eaa-ed01-2022e68b5a2a"
      },
      "execution_count": null,
      "outputs": [
        {
          "output_type": "stream",
          "name": "stdout",
          "text": [
            "Class Distribution:\n",
            " Outcome\n",
            "0    500\n",
            "1    268\n",
            "Name: count, dtype: int64\n",
            "\n",
            "Group Mean by Class:\n",
            "          Pregnancies     Glucose  BloodPressure  SkinThickness     Insulin  \\\n",
            "Outcome                                                                      \n",
            "0           3.298000  109.980000      68.184000      19.664000   68.792000   \n",
            "1           4.865672  141.257463      70.824627      22.164179  100.335821   \n",
            "\n",
            "               BMI  DiabetesPedigreeFunction        Age  \n",
            "Outcome                                                  \n",
            "0        30.304200                  0.429734  31.190000  \n",
            "1        35.142537                  0.550500  37.067164  \n"
          ]
        }
      ]
    },
    {
      "cell_type": "code",
      "source": [
        "X = diabdata.drop(columns=\"Outcome\", axis=1)\n",
        "Y = diabdata[\"Outcome\"]\n"
      ],
      "metadata": {
        "id": "DKuBIWFmPBfd"
      },
      "execution_count": null,
      "outputs": []
    },
    {
      "cell_type": "code",
      "source": [
        "scaler = StandardScaler()\n",
        "scaler.fit(X)\n",
        "X = scaler.transform(X)"
      ],
      "metadata": {
        "id": "2osMSa3ZPD_6"
      },
      "execution_count": null,
      "outputs": []
    },
    {
      "cell_type": "code",
      "source": [
        "Xtrain, Xtest, Ytrain, Ytest = train_test_split(X, Y, test_size=0.35, stratify=Y, random_state=2)"
      ],
      "metadata": {
        "id": "k1nnnWLJPF2q"
      },
      "execution_count": null,
      "outputs": []
    },
    {
      "cell_type": "code",
      "source": [
        "print(\"Model: Logistic Regression\")\n",
        "log_model = LogisticRegression()\n",
        "log_model.fit(Xtrain, Ytrain)\n",
        "log_pred = log_model.predict(Xtest)"
      ],
      "metadata": {
        "colab": {
          "base_uri": "https://localhost:8080/"
        },
        "id": "bxlD6SUXPI4M",
        "outputId": "6fb34c9a-bc3d-4cbf-a026-a29c215326c6"
      },
      "execution_count": null,
      "outputs": [
        {
          "output_type": "stream",
          "name": "stdout",
          "text": [
            "Model: Logistic Regression\n"
          ]
        }
      ]
    },
    {
      "cell_type": "code",
      "source": [
        "print(\"Accuracy:\", accuracy_score(Ytest, log_pred))"
      ],
      "metadata": {
        "colab": {
          "base_uri": "https://localhost:8080/"
        },
        "id": "9WTr_DhNPVAo",
        "outputId": "8547217f-64df-4dad-fab2-7702c77bf420"
      },
      "execution_count": null,
      "outputs": [
        {
          "output_type": "stream",
          "name": "stdout",
          "text": [
            "Accuracy: 0.7769516728624535\n"
          ]
        }
      ]
    },
    {
      "cell_type": "code",
      "source": [
        "print(\"\\nClassification Report:\\n\", classification_report(Ytest, log_pred))"
      ],
      "metadata": {
        "colab": {
          "base_uri": "https://localhost:8080/"
        },
        "id": "JJ76gGpVPU2o",
        "outputId": "0b83e92f-9581-4247-8bb3-71515ebe1dc3"
      },
      "execution_count": null,
      "outputs": [
        {
          "output_type": "stream",
          "name": "stdout",
          "text": [
            "\n",
            "Classification Report:\n",
            "               precision    recall  f1-score   support\n",
            "\n",
            "           0       0.78      0.91      0.84       175\n",
            "           1       0.77      0.52      0.62        94\n",
            "\n",
            "    accuracy                           0.78       269\n",
            "   macro avg       0.77      0.72      0.73       269\n",
            "weighted avg       0.78      0.78      0.76       269\n",
            "\n"
          ]
        }
      ]
    },
    {
      "cell_type": "code",
      "source": [
        "print(\"Confusion Matrix:\\n\", confusion_matrix(Ytest, log_pred))"
      ],
      "metadata": {
        "colab": {
          "base_uri": "https://localhost:8080/"
        },
        "id": "dx5cPXAiPUoX",
        "outputId": "b24f70e8-5377-4b99-dee9-811a350f932c"
      },
      "execution_count": null,
      "outputs": [
        {
          "output_type": "stream",
          "name": "stdout",
          "text": [
            "Confusion Matrix:\n",
            " [[160  15]\n",
            " [ 45  49]]\n"
          ]
        }
      ]
    },
    {
      "cell_type": "code",
      "source": [
        "input1 = np.asarray((4, 120, 92, 0, 0, 37.6, 0.191, 30)).reshape(1, -1)\n",
        "input1_std = scaler.transform(input1)\n",
        "log_result = log_model.predict(input1_std)\n",
        "print(\"\\nLogistic Regression Prediction:\", \"No diabetes\" if log_result[0] == 0 else \"Has diabetes\")"
      ],
      "metadata": {
        "colab": {
          "base_uri": "https://localhost:8080/"
        },
        "id": "0cgL9wKBPd--",
        "outputId": "165aef35-ecf8-45de-d74c-c7fd861e80b1"
      },
      "execution_count": null,
      "outputs": [
        {
          "output_type": "stream",
          "name": "stdout",
          "text": [
            "\n",
            "Logistic Regression Prediction: No diabetes\n"
          ]
        },
        {
          "output_type": "stream",
          "name": "stderr",
          "text": [
            "/usr/local/lib/python3.11/dist-packages/sklearn/utils/validation.py:2739: UserWarning: X does not have valid feature names, but StandardScaler was fitted with feature names\n",
            "  warnings.warn(\n"
          ]
        }
      ]
    },
    {
      "cell_type": "code",
      "source": [
        "print(\"Model: K-Nearest Neighbors\")\n",
        "knn_model = KNeighborsClassifier(n_neighbors=3)\n",
        "knn_model.fit(Xtrain, Ytrain)\n",
        "knn_pred = knn_model.predict(Xtest)"
      ],
      "metadata": {
        "colab": {
          "base_uri": "https://localhost:8080/"
        },
        "id": "W6Pdd985PgbI",
        "outputId": "a17d5f77-fed8-400c-9436-60c805673c0f"
      },
      "execution_count": null,
      "outputs": [
        {
          "output_type": "stream",
          "name": "stdout",
          "text": [
            "Model: K-Nearest Neighbors\n"
          ]
        }
      ]
    },
    {
      "cell_type": "code",
      "source": [
        "print(\"Accuracy:\", accuracy_score(Ytest, knn_pred))"
      ],
      "metadata": {
        "colab": {
          "base_uri": "https://localhost:8080/"
        },
        "id": "W-ExYiGyPgN2",
        "outputId": "e332dbd6-c251-470d-d406-6b22d5f6e4ec"
      },
      "execution_count": null,
      "outputs": [
        {
          "output_type": "stream",
          "name": "stdout",
          "text": [
            "Accuracy: 0.7286245353159851\n"
          ]
        }
      ]
    },
    {
      "cell_type": "code",
      "source": [
        "print(\"\\nClassification Report:\\n\", classification_report(Ytest, knn_pred))"
      ],
      "metadata": {
        "colab": {
          "base_uri": "https://localhost:8080/"
        },
        "id": "leEPhH_uPgG-",
        "outputId": "559fc1ea-776e-41ae-b660-49e34702ad94"
      },
      "execution_count": null,
      "outputs": [
        {
          "output_type": "stream",
          "name": "stdout",
          "text": [
            "\n",
            "Classification Report:\n",
            "               precision    recall  f1-score   support\n",
            "\n",
            "           0       0.77      0.83      0.80       175\n",
            "           1       0.63      0.54      0.58        94\n",
            "\n",
            "    accuracy                           0.73       269\n",
            "   macro avg       0.70      0.69      0.69       269\n",
            "weighted avg       0.72      0.73      0.72       269\n",
            "\n"
          ]
        }
      ]
    },
    {
      "cell_type": "code",
      "source": [
        "print(\"Confusion Matrix:\\n\", confusion_matrix(Ytest, knn_pred))"
      ],
      "metadata": {
        "colab": {
          "base_uri": "https://localhost:8080/"
        },
        "id": "fYoMcscpPm6V",
        "outputId": "d9a5c329-07a8-49da-8994-e6e3b70c3290"
      },
      "execution_count": null,
      "outputs": [
        {
          "output_type": "stream",
          "name": "stdout",
          "text": [
            "Confusion Matrix:\n",
            " [[145  30]\n",
            " [ 43  51]]\n"
          ]
        }
      ]
    },
    {
      "cell_type": "code",
      "source": [
        "input2 = np.asarray((5, 166, 72, 19, 175, 25.8, 0.587, 51)).reshape(1, -1)\n",
        "input2_std = scaler.transform(input2)\n",
        "knn_result = knn_model.predict(input2_std)\n",
        "print(\"\\nKNN Prediction:\", \"No diabetes\" if knn_result[0] == 0 else \"Has diabetes\")"
      ],
      "metadata": {
        "colab": {
          "base_uri": "https://localhost:8080/"
        },
        "id": "khked29pPqHE",
        "outputId": "b99d315a-c785-456e-aa91-77949d2da37f"
      },
      "execution_count": null,
      "outputs": [
        {
          "output_type": "stream",
          "name": "stdout",
          "text": [
            "\n",
            "KNN Prediction: Has diabetes\n"
          ]
        },
        {
          "output_type": "stream",
          "name": "stderr",
          "text": [
            "/usr/local/lib/python3.11/dist-packages/sklearn/utils/validation.py:2739: UserWarning: X does not have valid feature names, but StandardScaler was fitted with feature names\n",
            "  warnings.warn(\n"
          ]
        }
      ]
    },
    {
      "cell_type": "code",
      "source": [
        "print(\"Model: Decision Tree\")\n",
        "dt_model = DecisionTreeClassifier(random_state=2)\n",
        "dt_model.fit(Xtrain, Ytrain)\n",
        "dt_pred = dt_model.predict(Xtest)"
      ],
      "metadata": {
        "colab": {
          "base_uri": "https://localhost:8080/"
        },
        "id": "40QMJcpQPt6T",
        "outputId": "7c92893a-f36e-4762-9873-c42878add39a"
      },
      "execution_count": null,
      "outputs": [
        {
          "output_type": "stream",
          "name": "stdout",
          "text": [
            "Model: Decision Tree\n"
          ]
        }
      ]
    },
    {
      "cell_type": "code",
      "source": [
        "print(\"Accuracy:\", accuracy_score(Ytest, dt_pred))"
      ],
      "metadata": {
        "colab": {
          "base_uri": "https://localhost:8080/"
        },
        "id": "CKaVQAXJPtok",
        "outputId": "e8bf20f3-e7e3-43b0-d1a8-6b4cbb977a9b"
      },
      "execution_count": null,
      "outputs": [
        {
          "output_type": "stream",
          "name": "stdout",
          "text": [
            "Accuracy: 0.654275092936803\n"
          ]
        }
      ]
    },
    {
      "cell_type": "code",
      "source": [
        "print(\"\\nClassification Report:\\n\", classification_report(Ytest, dt_pred))"
      ],
      "metadata": {
        "colab": {
          "base_uri": "https://localhost:8080/"
        },
        "id": "2JHlstm8Pte9",
        "outputId": "2438162d-f62b-4358-9c5c-7499c070b710"
      },
      "execution_count": null,
      "outputs": [
        {
          "output_type": "stream",
          "name": "stdout",
          "text": [
            "\n",
            "Classification Report:\n",
            "               precision    recall  f1-score   support\n",
            "\n",
            "           0       0.72      0.76      0.74       175\n",
            "           1       0.51      0.46      0.48        94\n",
            "\n",
            "    accuracy                           0.65       269\n",
            "   macro avg       0.61      0.61      0.61       269\n",
            "weighted avg       0.65      0.65      0.65       269\n",
            "\n"
          ]
        }
      ]
    },
    {
      "cell_type": "code",
      "source": [
        "print(\"Confusion Matrix:\\n\", confusion_matrix(Ytest, dt_pred))"
      ],
      "metadata": {
        "colab": {
          "base_uri": "https://localhost:8080/"
        },
        "id": "KdlJ7UssPtVf",
        "outputId": "0f03d106-1cfc-447d-ae07-9f72161dbb51"
      },
      "execution_count": null,
      "outputs": [
        {
          "output_type": "stream",
          "name": "stdout",
          "text": [
            "Confusion Matrix:\n",
            " [[133  42]\n",
            " [ 51  43]]\n"
          ]
        }
      ]
    },
    {
      "cell_type": "code",
      "source": [
        "input3 = np.asarray((2, 100, 68, 25, 85, 30.0, 0.5, 28)).reshape(1, -1)\n",
        "input3_std = scaler.transform(input3)\n",
        "dt_result = dt_model.predict(input3_std)\n",
        "print(\"\\nDecision Tree Prediction:\", \"No diabetes\" if dt_result[0] == 0 else \"Has diabetes\")"
      ],
      "metadata": {
        "colab": {
          "base_uri": "https://localhost:8080/"
        },
        "id": "flyqWvzKPtKN",
        "outputId": "072417a2-2409-423b-890c-31f32ec3721f"
      },
      "execution_count": null,
      "outputs": [
        {
          "output_type": "stream",
          "name": "stdout",
          "text": [
            "\n",
            "Decision Tree Prediction: No diabetes\n"
          ]
        },
        {
          "output_type": "stream",
          "name": "stderr",
          "text": [
            "/usr/local/lib/python3.11/dist-packages/sklearn/utils/validation.py:2739: UserWarning: X does not have valid feature names, but StandardScaler was fitted with feature names\n",
            "  warnings.warn(\n"
          ]
        }
      ]
    },
    {
      "cell_type": "code",
      "source": [
        "print(\"Model: SVM (Linear Kernel)\")\n",
        "svm_model = svm.SVC(kernel=\"linear\")\n",
        "svm_model.fit(Xtrain, Ytrain)\n",
        "svm_pred = svm_model.predict(Xtest)"
      ],
      "metadata": {
        "colab": {
          "base_uri": "https://localhost:8080/"
        },
        "id": "eGdYWOynP3nZ",
        "outputId": "e5c46f72-1704-474a-9928-6d224b09197d"
      },
      "execution_count": null,
      "outputs": [
        {
          "output_type": "stream",
          "name": "stdout",
          "text": [
            "Model: SVM (Linear Kernel)\n"
          ]
        }
      ]
    },
    {
      "cell_type": "code",
      "source": [
        "print(\"Accuracy:\", accuracy_score(Ytest, svm_pred))"
      ],
      "metadata": {
        "colab": {
          "base_uri": "https://localhost:8080/"
        },
        "id": "RKzmyFL3P3fe",
        "outputId": "2fb52cb5-b0f7-4d41-c6d6-38df0e5f7f18"
      },
      "execution_count": null,
      "outputs": [
        {
          "output_type": "stream",
          "name": "stdout",
          "text": [
            "Accuracy: 0.7843866171003717\n"
          ]
        }
      ]
    },
    {
      "cell_type": "code",
      "source": [
        "print(\"\\nClassification Report:\\n\", classification_report(Ytest, svm_pred))"
      ],
      "metadata": {
        "colab": {
          "base_uri": "https://localhost:8080/"
        },
        "id": "WIILD3JqP3VB",
        "outputId": "c71db02a-ab04-46ea-eb85-6255b2742536"
      },
      "execution_count": null,
      "outputs": [
        {
          "output_type": "stream",
          "name": "stdout",
          "text": [
            "\n",
            "Classification Report:\n",
            "               precision    recall  f1-score   support\n",
            "\n",
            "           0       0.78      0.93      0.85       175\n",
            "           1       0.79      0.52      0.63        94\n",
            "\n",
            "    accuracy                           0.78       269\n",
            "   macro avg       0.79      0.72      0.74       269\n",
            "weighted avg       0.79      0.78      0.77       269\n",
            "\n"
          ]
        }
      ]
    },
    {
      "cell_type": "code",
      "source": [
        "print(\"Confusion Matrix:\\n\", confusion_matrix(Ytest, svm_pred))"
      ],
      "metadata": {
        "colab": {
          "base_uri": "https://localhost:8080/"
        },
        "id": "eQ38ZpsIP8nT",
        "outputId": "14e46e3d-5b08-4641-e85e-9dbac0160aa4"
      },
      "execution_count": null,
      "outputs": [
        {
          "output_type": "stream",
          "name": "stdout",
          "text": [
            "Confusion Matrix:\n",
            " [[162  13]\n",
            " [ 45  49]]\n"
          ]
        }
      ]
    },
    {
      "cell_type": "code",
      "source": [
        "input4 = np.asarray((3, 150, 78, 0, 0, 35.0, 0.2, 45)).reshape(1, -1)\n",
        "input4_std = scaler.transform(input4)\n",
        "svm_result = svm_model.predict(input4_std)\n",
        "print(\"\\nSVM Prediction:\", \"No diabetes\" if svm_result[0] == 0 else \"Has diabetes\")"
      ],
      "metadata": {
        "colab": {
          "base_uri": "https://localhost:8080/"
        },
        "id": "98COLY4bP-rN",
        "outputId": "369fade1-38a7-42b0-cd9a-8d27697d5d4a"
      },
      "execution_count": null,
      "outputs": [
        {
          "output_type": "stream",
          "name": "stdout",
          "text": [
            "\n",
            "SVM Prediction: Has diabetes\n"
          ]
        },
        {
          "output_type": "stream",
          "name": "stderr",
          "text": [
            "/usr/local/lib/python3.11/dist-packages/sklearn/utils/validation.py:2739: UserWarning: X does not have valid feature names, but StandardScaler was fitted with feature names\n",
            "  warnings.warn(\n"
          ]
        }
      ]
    }
  ]
}